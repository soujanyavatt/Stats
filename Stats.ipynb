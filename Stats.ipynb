{
 "cells": [
  {
   "cell_type": "markdown",
   "id": "a9fd0e83",
   "metadata": {},
   "source": [
    "### Binomial Distribution I\n",
    "#### Task\n",
    "The ratio of boys to girls for babies born in Russia is 1.09:1. If there is 1 child born per birth, what proportion of Russian families with exactly 6 children will have at least 3 boys?<br>\n",
    "\n",
    "Write a program to compute the answer using the above parameters. Then print your result, rounded to a scale of 3 decimal places (i.e., 1.234 format)."
   ]
  },
  {
   "cell_type": "code",
   "execution_count": 6,
   "id": "bcc38b17",
   "metadata": {},
   "outputs": [
    {
     "name": "stdout",
     "output_type": "stream",
     "text": [
      "1.09 1\n",
      "0.696\n"
     ]
    }
   ],
   "source": [
    "b,g = map(float,input().split())\n",
    "ratio = b/g\n",
    "\n",
    "def fact(n):\n",
    "    return 1 if n == 0 else n*fact(n-1)\n",
    "\n",
    "def comb(n, x):\n",
    "    return fact(n) / (fact(x) * fact(n-x))\n",
    "\n",
    "def b(x, n, p):\n",
    "    return comb(n, x) * p**x * (1-p)**(n-x)\n",
    "\n",
    "print(format(sum([b(i, 6, ratio / (1 + ratio)) for i in range(3, 7)]), '.3f'))"
   ]
  },
  {
   "cell_type": "code",
   "execution_count": null,
   "id": "7a13f32a",
   "metadata": {},
   "outputs": [],
   "source": []
  },
  {
   "cell_type": "markdown",
   "id": "f471efbc",
   "metadata": {},
   "source": [
    "### Binomial Distribution II\n",
    "A manufacturer of metal pistons finds that, on average, %12 of the pistons they manufacture are rejected because they are incorrectly sized. What is the probability that a batch of 10 pistons will contain:\n",
    "\n",
    "No more than 2 rejects? At least 2 rejects?"
   ]
  },
  {
   "cell_type": "code",
   "execution_count": 3,
   "id": "c372335a",
   "metadata": {},
   "outputs": [
    {
     "name": "stdout",
     "output_type": "stream",
     "text": [
      "12 10\n",
      "0.891\n",
      "0.342\n"
     ]
    }
   ],
   "source": [
    "p,n = map(int,input().split())\n",
    "p=p/100\n",
    "q=1-p\n",
    "def fact(n):\n",
    "    return 1 if n==0 else n*fact(n-1)\n",
    "\n",
    "def comb(n,x):\n",
    "    return fact(n)/ (fact(x) * fact(n-x))\n",
    "\n",
    "def b(x, n, p):\n",
    "    return comb(n, x) * p**x * q**(n-x)\n",
    "\n",
    "print(format(sum([b(i, n, p) for i in range(0,3)]), '.3f'))\n",
    "print(format(sum([b(i, n, p) for i in range(2, n+1)]), '.3f'))"
   ]
  },
  {
   "cell_type": "code",
   "execution_count": null,
   "id": "f3bec466",
   "metadata": {},
   "outputs": [],
   "source": []
  },
  {
   "cell_type": "markdown",
   "id": "bb0beee8",
   "metadata": {},
   "source": [
    "### Normal Distribution I\n",
    "In a certain plant, the time taken to assemble a car is a random variable X having a normal distribution with a mean of 20 hours and a standard deviation of 2 hours. \n",
    "What is the probability that a car can be assembled at this plant in:<br>\n",
    "\n",
    "Less than 19.5 hours?<br>\n",
    "\n",
    "Between 20 and 22 hours?"
   ]
  },
  {
   "cell_type": "code",
   "execution_count": 14,
   "id": "d3e88647",
   "metadata": {},
   "outputs": [
    {
     "name": "stdout",
     "output_type": "stream",
     "text": [
      "20 2\n",
      "19.5\n",
      "20 22\n",
      "0.401\n",
      "0.341\n"
     ]
    }
   ],
   "source": [
    "import math\n",
    "\n",
    "def cdf(mean, std, x):\n",
    "    return  0.5 * (1 + math.erf((x - mean) / (std * (2 ** 0.5))))\n",
    "\n",
    "if __name__ == \"__main__\":\n",
    "    mean,std = map(float,input().split())\n",
    "    hour = float(input())\n",
    "    hour1,hour2 = map(int,input().split())\n",
    "    \n",
    "    print(round(cdf(mean, std, hour),3))\n",
    "    print(round(cdf(mean, std, hour2) - cdf(mean, std, hour1),3))"
   ]
  },
  {
   "cell_type": "code",
   "execution_count": null,
   "id": "29b728f1",
   "metadata": {},
   "outputs": [],
   "source": []
  },
  {
   "cell_type": "markdown",
   "id": "37f64748",
   "metadata": {},
   "source": [
    "### Normal Distribution II\n",
    "\n",
    "Task:<br>\n",
    "The final grades for a Physics exam taken by a large group of students have a mean of 70 and a standard deviation of 10. If we can approximate the distribution of these grades by a normal distribution, what percentage of the students:<br>\n",
    "\n",
    "Scored higher than 80 (i.e., have a grade > 80)<br>\n",
    "Passed the test (i.e., have a grade >= 60)<br>\n",
    "Failed the test (i.e., have a grade < 60)<br>\n",
    "Find and print the answer to each question on a new line, rounded to a scale of decimal places."
   ]
  },
  {
   "cell_type": "code",
   "execution_count": 52,
   "id": "d4fea75a",
   "metadata": {},
   "outputs": [
    {
     "name": "stdout",
     "output_type": "stream",
     "text": [
      "70 10\n",
      "80\n",
      "60\n",
      "15.87\n",
      "84.13\n",
      "15.87\n"
     ]
    }
   ],
   "source": [
    "mean,std = map(float,input().split())\n",
    "grade1 = float(input())\n",
    "grade2 = float(input())\n",
    "\n",
    "def normal_distribution(x, mean, std):\n",
    "    return  0.5 * (1 + math.erf((x - mean) / (std * math.sqrt(2))))\n",
    "\n",
    "#higher than 80\n",
    "print (round((1-normal_distribution(grade1,mean,std))*100,2))\n",
    "\n",
    "# greater than or equal to 60\n",
    "print (round((1-normal_distribution(grade2,mean,std))*100,2))\n",
    "\n",
    "# less than 60\n",
    "print (round((normal_distribution(grade2,mean,std))*100,2))"
   ]
  },
  {
   "cell_type": "code",
   "execution_count": null,
   "id": "0cb5f28b",
   "metadata": {},
   "outputs": [],
   "source": []
  },
  {
   "cell_type": "markdown",
   "id": "49dba722",
   "metadata": {},
   "source": [
    "### The Central Limit Theorem I\n",
    "#### Task\n",
    "A large elevator can transport a maximum of 9800 pounds.<br>\n",
    "Suppose a load of cargo containing 49 boxes must be transported via the elevator.<br>\n",
    "The box weight of this type of cargo follows a distribution with a mean of 205 pounds and a standard deviation of 15 pounds.<br>\n",
    "Based on this information, what is the probability that all 49 boxes can be safely loaded into the freight elevator and transported?"
   ]
  },
  {
   "cell_type": "code",
   "execution_count": 36,
   "id": "5ce4b483",
   "metadata": {},
   "outputs": [
    {
     "name": "stdout",
     "output_type": "stream",
     "text": [
      "9800\n",
      "49\n",
      "205\n",
      "15\n",
      "0.0098\n"
     ]
    }
   ],
   "source": [
    "maximum = int(input())\n",
    "n_boxes = int(input())\n",
    "mean = int(input())\n",
    "std = int(input())\n",
    "\n",
    "mean_sample = n_boxes * mean\n",
    "std_sample = math.sqrt(n_boxes) * std\n",
    "\n",
    "def cdf(x, mean, std):\n",
    "    Z = (x - mean)/std\n",
    "    return 0.5*(1 + math.erf(Z/(math.sqrt(2))))\n",
    "\n",
    "print(round(cdf(maximum, mean_sample, std_sample), 4))"
   ]
  },
  {
   "cell_type": "code",
   "execution_count": null,
   "id": "28a0c745",
   "metadata": {},
   "outputs": [],
   "source": []
  },
  {
   "cell_type": "markdown",
   "id": "760701ff",
   "metadata": {},
   "source": [
    "## The Central Limit Theorem II\n",
    "The number of tickets purchased by each student for the University X vs. University Y football game follows a distribution that has a mean of 2.4 and a standard deviation of 2.0.<br>\n",
    "A few hours before the game starts, 100 eager students line up to purchase last-minute tickets. If there are only 250 tickets left, what is the probability that all 100 students will be able to purchase tickets?"
   ]
  },
  {
   "cell_type": "code",
   "execution_count": 37,
   "id": "b5f19690",
   "metadata": {},
   "outputs": [
    {
     "name": "stdout",
     "output_type": "stream",
     "text": [
      "0.6915\n"
     ]
    }
   ],
   "source": [
    "tickets = 250\n",
    "students = 100\n",
    "mean = 2.4\n",
    "std = 2.0\n",
    "\n",
    "mean_sample = students * mean\n",
    "std_sample = math.sqrt(students) * std\n",
    "\n",
    "def clf(x, mean, std):\n",
    "    return  0.5 * (1 + math.erf((x - mean) / (std * math.sqrt(2))))\n",
    "\n",
    "print(round(clf(tickets, mean_sample, std_sample), 4))"
   ]
  },
  {
   "cell_type": "code",
   "execution_count": null,
   "id": "0775ea27",
   "metadata": {},
   "outputs": [],
   "source": []
  },
  {
   "cell_type": "markdown",
   "id": "74a12913",
   "metadata": {},
   "source": [
    "### The Central Limit Theorem III\n",
    "You have a sample of 100 values from a population with a mean of 500 and with a standard deviation of 80. Compute the interval that covers the middle 95% of the distribution of the sample mean; in other words, compute A and B such that P(A<x<B)=0.95. Use the value of z=1.96."
   ]
  },
  {
   "cell_type": "code",
   "execution_count": 39,
   "id": "c95288cb",
   "metadata": {},
   "outputs": [
    {
     "name": "stdout",
     "output_type": "stream",
     "text": [
      "484.32\n",
      "515.68\n"
     ]
    }
   ],
   "source": [
    "n = 100\n",
    "mean = 500\n",
    "std = 80\n",
    "interval = 0.95\n",
    "z = 1.96\n",
    "\n",
    "# sample mean distribution\n",
    "mean = mean\n",
    "std = std / n**(0.5)\n",
    "\n",
    "# confidence intervals of sample mean dist\n",
    "A = (mean - std * z)\n",
    "B = (mean + std * z)\n",
    "\n",
    "print(round(A,2))\n",
    "print(round(B,2))"
   ]
  },
  {
   "cell_type": "code",
   "execution_count": null,
   "id": "61eeaf38",
   "metadata": {},
   "outputs": [],
   "source": []
  },
  {
   "cell_type": "markdown",
   "id": "60ace124",
   "metadata": {},
   "source": [
    "### Pearson Correlation Coefficient\n",
    "You have given two n-element data sets, X and Y, to calculate the value of the Pearson correlation coefficient."
   ]
  },
  {
   "cell_type": "code",
   "execution_count": 47,
   "id": "222d6132",
   "metadata": {},
   "outputs": [
    {
     "name": "stdout",
     "output_type": "stream",
     "text": [
      "10\n",
      "10 9.8 8 7.8 7.7 7 6 5 4 2\n",
      "200 44 32 24 22 17 15 12 8 4\n",
      "0.612\n"
     ]
    }
   ],
   "source": [
    "n = int(input())\n",
    "X  = list(map(float,input().split()))\n",
    "Y  = list(map(float,input().split()))\n",
    "\n",
    "\n",
    "X_mean = sum(X) / n\n",
    "Y_mean = sum(Y) / n\n",
    "\n",
    "cov_xy = [(X[i] - X_mean)*(Y[i] - Y_mean) for i in range(n)]\n",
    "cov_xy = sum(cov_xy)\n",
    "\n",
    "X_std = (sum([(i - X_mean)**2 for i in X])/n)**0.5\n",
    "Y_std = (sum([(i - Y_mean)**2 for i in Y])/n)**0.5\n",
    "\n",
    "correlation = cov_xy/(n*X_std*Y_std)\n",
    "\n",
    "print(round(correlation,3))"
   ]
  },
  {
   "cell_type": "code",
   "execution_count": null,
   "id": "4fd89803",
   "metadata": {},
   "outputs": [],
   "source": []
  },
  {
   "cell_type": "markdown",
   "id": "a4046029",
   "metadata": {},
   "source": [
    "### Least Square Regression Line\n",
    "\n",
    "A group of five students enroll in Statistics immediately after taking a Math aptitude test. Each student's Math aptitude test score, x, and Statistics course grade, y, can be expressed as the following list of (x,y) points:<br>\n",
    "(95,85)<br>\n",
    "(85,95)<br>\n",
    "(80,70)<br>\n",
    "(70,65)<br>\n",
    "(60,70)<br>\n",
    "If a student scored an 80 on the Math aptitude test, what grade would we expect them to achieve in Statistics? Determine the equation of the best-fit line using the least-squares method, then compute and print the value of y when x=80."
   ]
  },
  {
   "cell_type": "code",
   "execution_count": 48,
   "id": "f6f85257",
   "metadata": {},
   "outputs": [
    {
     "name": "stdout",
     "output_type": "stream",
     "text": [
      "95 85\n",
      "85 95\n",
      "80 70\n",
      "70 65\n",
      "60 70\n",
      "78.288\n"
     ]
    }
   ],
   "source": [
    "scores = []\n",
    "for i in range(5):\n",
    "    scores.append(tuple(map(int, input().strip().split(' '))))\n",
    "        \n",
    "sum_x = sum([i[0] for i in scores])\n",
    "sum_y = sum([i[1] for i in scores])\n",
    "sum_x2 = sum([i[0]**2 for i in scores])\n",
    "sum_xy = sum([i[0]*i[1] for i in scores])\n",
    "    \n",
    "n = len(scores)\n",
    "    \n",
    "m = ((n*sum_xy)-(sum_x*sum_y)) / ((n*sum_x2)-sum_x**2)\n",
    "b = (sum_y - m*sum_x)/n\n",
    "    \n",
    "print(round(b+m*80, 3))"
   ]
  },
  {
   "cell_type": "code",
   "execution_count": null,
   "id": "22a9295b",
   "metadata": {},
   "outputs": [],
   "source": []
  },
  {
   "cell_type": "markdown",
   "id": "fe0d2167",
   "metadata": {},
   "source": [
    "### Multiple Linear Regression"
   ]
  },
  {
   "cell_type": "code",
   "execution_count": 49,
   "id": "d932a851",
   "metadata": {},
   "outputs": [],
   "source": [
    "import numpy as np"
   ]
  },
  {
   "cell_type": "code",
   "execution_count": 51,
   "id": "84fc0ed6",
   "metadata": {},
   "outputs": [
    {
     "name": "stdout",
     "output_type": "stream",
     "text": [
      "2 7\n",
      "0.18 0.89 109.85\n",
      "1.0 0.26 155.72\n",
      "0.92 0.11 137.66\n",
      "0.07 0.37 76.17\n",
      "0.85 0.16 139.75\n",
      "0.99 0.41 162.6\n",
      "0.87 0.47 151.77\n",
      "4\n",
      "0.49 0.18\n",
      "0.57 0.83\n",
      "0.56 0.64\n",
      "0.76 0.18\n",
      "105.21\n",
      "142.67\n",
      "132.94\n",
      "129.7\n"
     ]
    }
   ],
   "source": [
    "m,n = [int(i) for i in input().strip().split(' ')]\n",
    "X,Y = [],[]\n",
    "for i in range(n):\n",
    "    data = input().strip().split(' ')\n",
    "    X.append(data[:m])\n",
    "    Y.append(data[m:])\n",
    "q = int(input().strip())\n",
    "X_new = []\n",
    "for x in range(q):\n",
    "    X_new.append(input().strip().split(' '))\n",
    "X = np.array(X,float)\n",
    "Y = np.array(Y,float)\n",
    "X_new = np.array(X_new,float)\n",
    "\n",
    "#center\n",
    "X_R = X-np.mean(X,axis=0)\n",
    "Y_R = Y-np.mean(Y)\n",
    "\n",
    "#calculate beta\n",
    "beta = np.dot(np.linalg.inv(np.dot(X_R.T,X_R)),np.dot(X_R.T,Y_R))\n",
    "\n",
    "#predict\n",
    "X_new_R = X_new-np.mean(X,axis=0)\n",
    "Y_new_R = np.dot(X_new_R,beta)\n",
    "Y_new = Y_new_R + np.mean(Y)\n",
    "\n",
    "for i in Y_new:\n",
    "    print(round(float(i),2))"
   ]
  },
  {
   "cell_type": "code",
   "execution_count": null,
   "id": "3d23f18c",
   "metadata": {},
   "outputs": [],
   "source": []
  }
 ],
 "metadata": {
  "kernelspec": {
   "display_name": "Python 3",
   "language": "python",
   "name": "python3"
  },
  "language_info": {
   "codemirror_mode": {
    "name": "ipython",
    "version": 3
   },
   "file_extension": ".py",
   "mimetype": "text/x-python",
   "name": "python",
   "nbconvert_exporter": "python",
   "pygments_lexer": "ipython3",
   "version": "3.8.8"
  }
 },
 "nbformat": 4,
 "nbformat_minor": 5
}
